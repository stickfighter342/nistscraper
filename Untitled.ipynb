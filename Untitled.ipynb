{
 "cells": [
  {
   "cell_type": "code",
   "execution_count": 8,
   "metadata": {},
   "outputs": [],
   "source": [
    "def arrTemp(initial, temp):\n",
    "    if (initial == \"r\"):\n",
    "        temp = (temp - 491.67) / 1.8\n",
    "    elif (initial == \"k\"):\n",
    "        temp -= 273.15\n",
    "    elif (initial == \"f\"):\n",
    "        temp = (temp - 32) / 1.8\n",
    "    return cTOall(temp, \"temp\")    "
   ]
  },
  {
   "cell_type": "code",
   "execution_count": 50,
   "metadata": {},
   "outputs": [
    {
     "data": {
      "text/plain": [
       "[4.627777777777768, 40.329999999999984, 277.77777777777777, 500.0]"
      ]
     },
     "execution_count": 50,
     "metadata": {},
     "output_type": "execute_result"
    }
   ],
   "source": [
    "arrTemp(\"r\", 500)"
   ]
  },
  {
   "cell_type": "code",
   "execution_count": 10,
   "metadata": {},
   "outputs": [],
   "source": [
    "def cTOall(value, key):\n",
    "    if (key == \"temp\"):  \n",
    "        return [value, value * 1.8 + 32, value + 273.15, (value + 273.15) * 1.8]\n",
    "    elif (key == \"pres\"):\n",
    "        return [value, value * 101.325, value * 1.01325, value * 14.6959]"
   ]
  },
  {
   "cell_type": "code",
   "execution_count": 33,
   "metadata": {},
   "outputs": [
    {
     "name": "stdout",
     "output_type": "stream",
     "text": [
      "-0.47999999999996135\n"
     ]
    }
   ],
   "source": [
    "print(-273.15*1.8+32+459.19)"
   ]
  },
  {
   "cell_type": "code",
   "execution_count": 11,
   "metadata": {},
   "outputs": [],
   "source": [
    "def convTemp(initial, temp, convert):\n",
    "    vec = arrTemp(initial, temp)\n",
    "    if (convert == \"r\"):\n",
    "        return vec[3]\n",
    "    elif (convert == \"k\"):\n",
    "        return vec[2]\n",
    "    elif (convert == \"f\"):\n",
    "        return vec[1]\n",
    "    return vec[0]"
   ]
  },
  {
   "cell_type": "code",
   "execution_count": 52,
   "metadata": {},
   "outputs": [
    {
     "data": {
      "text/plain": [
       "40.329999999999984"
      ]
     },
     "execution_count": 52,
     "metadata": {},
     "output_type": "execute_result"
    }
   ],
   "source": [
    "convTemp(\"r\", 500, \"f\")"
   ]
  },
  {
   "cell_type": "code",
   "execution_count": 17,
   "metadata": {},
   "outputs": [],
   "source": [
    "def arrPres(initial, pres):\n",
    "    if (initial == \"psig\"):\n",
    "        pres /= 14.6959\n",
    "    elif (initial == \"kPa\"):\n",
    "        pres /= 101.325\n",
    "    elif (initial == \"bar\"):\n",
    "        pres /= 1.01325\n",
    "    return cTOall(pres, \"pres\")  \n",
    "    "
   ]
  },
  {
   "cell_type": "code",
   "execution_count": 27,
   "metadata": {},
   "outputs": [],
   "source": [
    "def convPres(initial, pres, convert):\n",
    "    vec = arrPres(initial, pres)\n",
    "    if (convert == \"psig\"):\n",
    "        return vec[3]\n",
    "    elif (convert == \"bar\"):\n",
    "        return vec[2]\n",
    "    elif (convert == \"kPa\"):\n",
    "        return vec[1]\n",
    "    return vec[0]"
   ]
  },
  {
   "cell_type": "code",
   "execution_count": 30,
   "metadata": {},
   "outputs": [
    {
     "data": {
      "text/plain": [
       "0.01"
      ]
     },
     "execution_count": 30,
     "metadata": {},
     "output_type": "execute_result"
    }
   ],
   "source": [
    "convPres(\"kPa\", 1, \"bar\")"
   ]
  },
  {
   "cell_type": "code",
   "execution_count": 35,
   "metadata": {},
   "outputs": [],
   "source": [
    "def convVol(initial, vol, convert):\n",
    "    if (initial == \"L/mol\"):\n",
    "        return vol * 0.001\n",
    "    return vol * 1000\n"
   ]
  },
  {
   "cell_type": "code",
   "execution_count": 37,
   "metadata": {},
   "outputs": [
    {
     "data": {
      "text/plain": [
       "1000000"
      ]
     },
     "execution_count": 37,
     "metadata": {},
     "output_type": "execute_result"
    }
   ],
   "source": [
    "convVol(\"m^3/kmol\", 1000, \"L/mol\")"
   ]
  }
 ],
 "metadata": {
  "kernelspec": {
   "display_name": "Python 3",
   "language": "python",
   "name": "python3"
  },
  "language_info": {
   "codemirror_mode": {
    "name": "ipython",
    "version": 3
   },
   "file_extension": ".py",
   "mimetype": "text/x-python",
   "name": "python",
   "nbconvert_exporter": "python",
   "pygments_lexer": "ipython3",
   "version": "3.7.4"
  }
 },
 "nbformat": 4,
 "nbformat_minor": 2
}
