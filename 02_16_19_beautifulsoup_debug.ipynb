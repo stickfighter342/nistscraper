{
 "cells": [
  {
   "cell_type": "code",
   "execution_count": 1,
   "metadata": {},
   "outputs": [],
   "source": [
    "from selenium import webdriver\n",
    "from bs4 import BeautifulSoup\n",
    "import pandas as pd\n"
   ]
  },
  {
   "cell_type": "code",
   "execution_count": 2,
   "metadata": {},
   "outputs": [],
   "source": [
    "driver = webdriver.Chrome()\n",
    "\n",
    "products = [] # List to store name of the product\n",
    "prices = [] # List to store price of the product\n",
    "ratings = [] # List to store rating of the products\n",
    "\n",
    "driver.get('https://webbook.nist.gov/cgi/cbook.cgi?ID=C7727379&Units=SI&Mask=4#Thermo-Phase')"
   ]
  },
  {
   "cell_type": "code",
   "execution_count": 3,
   "metadata": {},
   "outputs": [],
   "source": [
    "content = driver.page_source\n",
    "soup = BeautifulSoup(content, 'html.parser')\n",
    "#print(soup.prettify())\n",
    "for a in soup.find_all('main', attrs = {'li'}):\n",
    "    name=a.find('div', attrs={'class':'_3wU53n'})\n",
    "    price=a.find('div', attrs={'class':'_1vC4OE _2rQ-NK'})\n",
    "    print(a)"
   ]
  },
  {
   "cell_type": "code",
   "execution_count": 4,
   "metadata": {},
   "outputs": [
    {
     "name": "stdout",
     "output_type": "stream",
     "text": [
      "28.0134\n",
      "InChI=1S/N2/c1-2\n",
      "IJGRMHOSHXDMSA-UHFFFAOYSA-N\n",
      "7727-37-9\n"
     ]
    }
   ],
   "source": [
    "data = {}\n",
    "\n",
    "for i, a in enumerate(soup.find('main').find('ul').find_all('li')):\n",
    "    #print('{}: {}'.format(i, a))\n",
    "    if i == 1:\n",
    "        print(str(a).split('</strong> ')[1].split('<')[0])\n",
    "        data['Molecular Weight'] = [str(a).split('</strong> ')[1].split('<')[0]]\n",
    "    if i == 2:\n",
    "        print(str(a).split('monospace;\">')[1].split('</span></li>')[0])\n",
    "        data['InChI Code'] = [str(a).split('monospace;\">')[1].split('</span></li>')[0]]\n",
    "    if i == 5:\n",
    "        print(str(a).split('font-family: monospace;\">')[1].split('</span></li>')[0])\n",
    "        data['InChIKey Code'] = str(a).split('font-family: monospace;\">')[1].split('</span></li>')[0]\n",
    "    if i == 6:\n",
    "        print(str(a).split('</strong> ')[1].split('</li>')[0])\n",
    "        data['CAS Reg. #'] = str(a).split('</strong> ')[1].split('</li>')[0]"
   ]
  },
  {
   "cell_type": "code",
   "execution_count": 5,
   "metadata": {},
   "outputs": [],
   "source": [
    "dt = pd.DataFrame(data)\n",
    "#dt = dt.set_index('ID')\n"
   ]
  },
  {
   "cell_type": "code",
   "execution_count": 11,
   "metadata": {},
   "outputs": [
    {
     "name": "stdout",
     "output_type": "stream",
     "text": [
      "63.14\n",
      "0.1252\n",
      "126.19\n"
     ]
    }
   ],
   "source": [
    "for i, a in enumerate(soup.find('table', attrs = {'aria-label': 'One dimensional data'}).find('tbody').find_all('tr')):\n",
    "    #print('{}: {}'.format(i, a))\n",
    "    if i == 6:\n",
    "        print(str(a).split('-nowrap\">')[1].split('</td')[0])\n",
    "    if i == 11:\n",
    "        print(str(a).split('-nowrap\">')[1].split('</td')[0])\n",
    "    if i == 16:\n",
    "        print(str(a).split('-nowrap\">')[1].split('</td')[0])\n",
    "    "
   ]
  },
  {
   "cell_type": "code",
   "execution_count": 32,
   "metadata": {},
   "outputs": [
    {
     "data": {
      "text/html": [
       "<div>\n",
       "<style scoped>\n",
       "    .dataframe tbody tr th:only-of-type {\n",
       "        vertical-align: middle;\n",
       "    }\n",
       "\n",
       "    .dataframe tbody tr th {\n",
       "        vertical-align: top;\n",
       "    }\n",
       "\n",
       "    .dataframe thead th {\n",
       "        text-align: right;\n",
       "    }\n",
       "</style>\n",
       "<table border=\"1\" class=\"dataframe\">\n",
       "  <thead>\n",
       "    <tr style=\"text-align: right;\">\n",
       "      <th></th>\n",
       "      <th>MW</th>\n",
       "      <th>ID</th>\n",
       "      <th>CAS Reg. #</th>\n",
       "      <th>InChI Code</th>\n",
       "      <th>InChIKey Code</th>\n",
       "      <th>Molecular Weight</th>\n",
       "    </tr>\n",
       "  </thead>\n",
       "  <tbody>\n",
       "    <tr>\n",
       "      <td>0</td>\n",
       "      <td>28.0134</td>\n",
       "      <td>InChI=1S/N2/c1-2</td>\n",
       "      <td>NaN</td>\n",
       "      <td>NaN</td>\n",
       "      <td>NaN</td>\n",
       "      <td>NaN</td>\n",
       "    </tr>\n",
       "    <tr>\n",
       "      <td>1</td>\n",
       "      <td>NaN</td>\n",
       "      <td>NaN</td>\n",
       "      <td>7727-37-9</td>\n",
       "      <td>[InChI=1S/N2/c1-2]</td>\n",
       "      <td>IJGRMHOSHXDMSA-UHFFFAOYSA-N</td>\n",
       "      <td>[28.0134]</td>\n",
       "    </tr>\n",
       "  </tbody>\n",
       "</table>\n",
       "</div>"
      ],
      "text/plain": [
       "        MW                ID CAS Reg. #          InChI Code  \\\n",
       "0  28.0134  InChI=1S/N2/c1-2        NaN                 NaN   \n",
       "1      NaN               NaN  7727-37-9  [InChI=1S/N2/c1-2]   \n",
       "\n",
       "                 InChIKey Code Molecular Weight  \n",
       "0                          NaN              NaN  \n",
       "1  IJGRMHOSHXDMSA-UHFFFAOYSA-N        [28.0134]  "
      ]
     },
     "execution_count": 32,
     "metadata": {},
     "output_type": "execute_result"
    }
   ],
   "source": [
    "dt.append(data, ignore_index=True)"
   ]
  },
  {
   "cell_type": "code",
   "execution_count": 28,
   "metadata": {},
   "outputs": [
    {
     "data": {
      "text/html": [
       "<div>\n",
       "<style scoped>\n",
       "    .dataframe tbody tr th:only-of-type {\n",
       "        vertical-align: middle;\n",
       "    }\n",
       "\n",
       "    .dataframe tbody tr th {\n",
       "        vertical-align: top;\n",
       "    }\n",
       "\n",
       "    .dataframe thead th {\n",
       "        text-align: right;\n",
       "    }\n",
       "</style>\n",
       "<table border=\"1\" class=\"dataframe\">\n",
       "  <thead>\n",
       "    <tr style=\"text-align: right;\">\n",
       "      <th></th>\n",
       "      <th>MW</th>\n",
       "      <th>ID</th>\n",
       "      <th>CAS Reg. #</th>\n",
       "      <th>InChI Code</th>\n",
       "      <th>InChIKey Code</th>\n",
       "      <th>Molecular Weight</th>\n",
       "    </tr>\n",
       "  </thead>\n",
       "  <tbody>\n",
       "    <tr>\n",
       "      <td>0</td>\n",
       "      <td>28.0134</td>\n",
       "      <td>InChI=1S/N2/c1-2</td>\n",
       "      <td>NaN</td>\n",
       "      <td>NaN</td>\n",
       "      <td>NaN</td>\n",
       "      <td>NaN</td>\n",
       "    </tr>\n",
       "    <tr>\n",
       "      <td>1</td>\n",
       "      <td>NaN</td>\n",
       "      <td>NaN</td>\n",
       "      <td>7727-37-9</td>\n",
       "      <td>[InChI=1S/N2/c1-2]</td>\n",
       "      <td>IJGRMHOSHXDMSA-UHFFFAOYSA-N</td>\n",
       "      <td>[28.0134]</td>\n",
       "    </tr>\n",
       "  </tbody>\n",
       "</table>\n",
       "</div>"
      ],
      "text/plain": [
       "        MW                ID CAS Reg. #          InChI Code  \\\n",
       "0  28.0134  InChI=1S/N2/c1-2        NaN                 NaN   \n",
       "1      NaN               NaN  7727-37-9  [InChI=1S/N2/c1-2]   \n",
       "\n",
       "                 InChIKey Code Molecular Weight  \n",
       "0                          NaN              NaN  \n",
       "1  IJGRMHOSHXDMSA-UHFFFAOYSA-N        [28.0134]  "
      ]
     },
     "execution_count": 28,
     "metadata": {},
     "output_type": "execute_result"
    }
   ],
   "source": []
  },
  {
   "cell_type": "code",
   "execution_count": null,
   "metadata": {},
   "outputs": [],
   "source": []
  }
 ],
 "metadata": {
  "kernelspec": {
   "display_name": "Python 3",
   "language": "python",
   "name": "python3"
  },
  "language_info": {
   "codemirror_mode": {
    "name": "ipython",
    "version": 3
   },
   "file_extension": ".py",
   "mimetype": "text/x-python",
   "name": "python",
   "nbconvert_exporter": "python",
   "pygments_lexer": "ipython3",
   "version": "3.7.4"
  }
 },
 "nbformat": 4,
 "nbformat_minor": 4
}
