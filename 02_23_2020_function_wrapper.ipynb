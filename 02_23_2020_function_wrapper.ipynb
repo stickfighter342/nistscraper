{
 "cells": [
  {
   "cell_type": "code",
   "execution_count": 2,
   "metadata": {},
   "outputs": [],
   "source": [
    "from selenium import webdriver\n",
    "from bs4 import BeautifulSoup\n",
    "import pandas as pd"
   ]
  },
  {
   "cell_type": "code",
   "execution_count": 26,
   "metadata": {},
   "outputs": [],
   "source": [
    "class Thermo():\n",
    "    \n",
    "    def __init__(self, ID):\n",
    "        \n",
    "        seed = {}\n",
    "        self.ID = ID\n",
    "        seed['Molecular Weight'] = []\n",
    "        seed['InChI Code'] = []\n",
    "        seed['InChIKey Code'] = []\n",
    "        seed['CAS Reg. #'] = []\n",
    "        seed['TP Temp (K)'] = []\n",
    "        \n",
    "        df = pd.DataFrame(data=seed)\n",
    "        print(self.ID)\n",
    "        self.data = df\n",
    "\n",
    "    def nist_pull(self):\n",
    "        page='https://webbook.nist.gov/cgi/cbook.cgi?ID=' + self.ID + '&Units=SI&Mask=4#Thermo-Phase'\n",
    "        #https://webbook.nist.gov/cgi/cbook.cgi?ID=C7782447&Units=SI&Mask=4#Thermo-Phase\n",
    "        #'https://webbook.nist.gov/cgi/cbook.cgi?ID=C7727379&Units=SI&Mask=4#Thermo-Phase'\n",
    "\n",
    "        # Update so chemical id is the input\n",
    "\n",
    "        # Different behavior for first entry versus following entries\n",
    "        driver = webdriver.Chrome()\n",
    "\n",
    "        driver.get(page)\n",
    "        content = driver.page_source\n",
    "        soup = BeautifulSoup(content, 'html.parser')\n",
    "\n",
    "        data = {}\n",
    "        for i, a in enumerate(soup.find('main').find('ul').find_all('li')):\n",
    "            #print('{}: {}'.format(i, a))\n",
    "            if i == 1:\n",
    "                data['Molecular Weight'] = [str(a).split('</strong> ')[1].split('<')[0]]\n",
    "            if i == 2:\n",
    "                data['InChI Code'] = [str(a).split('monospace;\">')[1].split('</span></li>')[0]]\n",
    "            if i == 5:\n",
    "                data['InChIKey Code'] = [str(a).split('font-family: monospace;\">')[1].split('</span></li>')[0]]\n",
    "            if i == 6:\n",
    "                data['CAS Reg. #'] = [str(a).split('</strong> ')[1].split('</li>')[0]]\n",
    "\n",
    "        # Need to modify this section to be generalizable to all pages.\n",
    "        # See hanges in beautifulsoup_debug\n",
    "        # Also add in try/except statements if they don't exist.\n",
    "        test_data = str(soup.find('table', attrs = {'aria-label': 'One dimensional data'}).find('tbody'))\n",
    "        \n",
    "        try:\n",
    "            data['TP Temp (K)'] = (test_data.split('T<sub>triple</sub></td><td class=\"right-nowrap\">')[1].split('</td>')[0])\n",
    "            \n",
    "        except:\n",
    "            data['TP Temp (K)'] = ('--')\n",
    "            \n",
    "        try:\n",
    "            data['TP Pres (bar)'] = (test_data.split('P<sub>triple</sub></td><td class=\"right-nowrap\">')[1].split('</td>')[0])\n",
    "            \n",
    "        except:\n",
    "            data['TP Pres (bar)'] = ('--')\n",
    "            \n",
    "        try:\n",
    "            data['CP Temp (K)'] = (test_data.split('T<sub>c</sub></td><td class=\"right-nowrap\">')[1].split('</td>')[0])\n",
    "            \n",
    "        except:\n",
    "            data['CP Temp (K)'] = ('--')\n",
    "        \n",
    "        try:\n",
    "            data['CP Pres (bar)'] = (test_data.split('P<sub>c</sub></td><td class=\"right-nowrap\">')[1].split('</td>')[0])\n",
    "            \n",
    "        except:\n",
    "            data['CP Pres (bar)'] = ('--')\n",
    "        \n",
    "\n",
    "        driver.quit()\n",
    "\n",
    "        self.data = self.data.append(data, ignore_index=True)\n",
    "        #return data\n",
    "        \n",
    "        # Add in VLE functions"
   ]
  },
  {
   "cell_type": "code",
   "execution_count": 27,
   "metadata": {},
   "outputs": [
    {
     "name": "stdout",
     "output_type": "stream",
     "text": [
      "C7727379\n"
     ]
    }
   ],
   "source": [
    "d = Thermo(\"C7727379\")"
   ]
  },
  {
   "cell_type": "code",
   "execution_count": 28,
   "metadata": {},
   "outputs": [
    {
     "ename": "NameError",
     "evalue": "name 'df' is not defined",
     "output_type": "error",
     "traceback": [
      "\u001b[1;31m---------------------------------------------------------------------------\u001b[0m",
      "\u001b[1;31mNameError\u001b[0m                                 Traceback (most recent call last)",
      "\u001b[1;32m<ipython-input-28-9f0fa9c26feb>\u001b[0m in \u001b[0;36m<module>\u001b[1;34m\u001b[0m\n\u001b[1;32m----> 1\u001b[1;33m \u001b[0md\u001b[0m\u001b[1;33m.\u001b[0m\u001b[0mnist_pull\u001b[0m\u001b[1;33m(\u001b[0m\u001b[1;33m)\u001b[0m\u001b[1;33m\u001b[0m\u001b[1;33m\u001b[0m\u001b[0m\n\u001b[0m",
      "\u001b[1;32m<ipython-input-26-b88e645cd1ec>\u001b[0m in \u001b[0;36mnist_pull\u001b[1;34m(self)\u001b[0m\n\u001b[0;32m     74\u001b[0m \u001b[1;33m\u001b[0m\u001b[0m\n\u001b[0;32m     75\u001b[0m         \u001b[0mself\u001b[0m\u001b[1;33m.\u001b[0m\u001b[0mdata\u001b[0m \u001b[1;33m=\u001b[0m \u001b[0mself\u001b[0m\u001b[1;33m.\u001b[0m\u001b[0mdata\u001b[0m\u001b[1;33m.\u001b[0m\u001b[0mappend\u001b[0m\u001b[1;33m(\u001b[0m\u001b[0mdata\u001b[0m\u001b[1;33m,\u001b[0m \u001b[0mignore_index\u001b[0m\u001b[1;33m=\u001b[0m\u001b[1;32mTrue\u001b[0m\u001b[1;33m)\u001b[0m\u001b[1;33m\u001b[0m\u001b[1;33m\u001b[0m\u001b[0m\n\u001b[1;32m---> 76\u001b[1;33m         \u001b[0mdf\u001b[0m\u001b[1;33m.\u001b[0m\u001b[0mset_index\u001b[0m\u001b[1;33m(\u001b[0m\u001b[1;34m'ID'\u001b[0m\u001b[1;33m,\u001b[0m \u001b[0minplace\u001b[0m \u001b[1;33m=\u001b[0m \u001b[1;32mTrue\u001b[0m\u001b[1;33m)\u001b[0m\u001b[1;33m\u001b[0m\u001b[1;33m\u001b[0m\u001b[0m\n\u001b[0m\u001b[0;32m     77\u001b[0m         \u001b[1;31m#return data\u001b[0m\u001b[1;33m\u001b[0m\u001b[1;33m\u001b[0m\u001b[1;33m\u001b[0m\u001b[0m\n\u001b[0;32m     78\u001b[0m \u001b[1;33m\u001b[0m\u001b[0m\n",
      "\u001b[1;31mNameError\u001b[0m: name 'df' is not defined"
     ]
    }
   ],
   "source": [
    "\n"
   ]
  },
  {
   "cell_type": "code",
   "execution_count": null,
   "metadata": {},
   "outputs": [],
   "source": []
  },
  {
   "cell_type": "code",
   "execution_count": null,
   "metadata": {},
   "outputs": [],
   "source": []
  }
 ],
 "metadata": {
  "kernelspec": {
   "display_name": "Python 3",
   "language": "python",
   "name": "python3"
  },
  "language_info": {
   "codemirror_mode": {
    "name": "ipython",
    "version": 3
   },
   "file_extension": ".py",
   "mimetype": "text/x-python",
   "name": "python",
   "nbconvert_exporter": "python",
   "pygments_lexer": "ipython3",
   "version": "3.7.4"
  }
 },
 "nbformat": 4,
 "nbformat_minor": 4
}
