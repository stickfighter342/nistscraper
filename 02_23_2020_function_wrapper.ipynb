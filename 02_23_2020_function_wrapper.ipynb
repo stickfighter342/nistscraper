{
 "cells": [
  {
   "cell_type": "code",
   "execution_count": 1,
   "metadata": {},
   "outputs": [],
   "source": [
    "from selenium import webdriver\n",
    "from bs4 import BeautifulSoup\n",
    "import pandas as pd"
   ]
  },
  {
   "cell_type": "code",
   "execution_count": 53,
   "metadata": {},
   "outputs": [],
   "source": [
    "class Thermo():\n",
    "    \n",
    "    def __init__(self):\n",
    "        \n",
    "        seed = {}\n",
    "        seed['Molecular Weight'] = []\n",
    "        seed['InChI Code'] = []\n",
    "        seed['InChIKey Code'] = []\n",
    "        seed['CAS Reg. #'] = []\n",
    "        seed['TP Temp (K)'] = []\n",
    "        \n",
    "        df = pd.DataFrame(data=seed)\n",
    "        \n",
    "        self.data = df\n",
    "\n",
    "    def nist_pull(self, page='https://webbook.nist.gov/cgi/cbook.cgi?ID=C7727379&Units=SI&Mask=4#Thermo-Phase'):\n",
    "\n",
    "        #https://webbook.nist.gov/cgi/cbook.cgi?ID=C7782447&Units=SI&Mask=4#Thermo-Phase\n",
    "        #'https://webbook.nist.gov/cgi/cbook.cgi?ID=C7727379&Units=SI&Mask=4#Thermo-Phase'\n",
    "\n",
    "        # Update so chemical id is the input\n",
    "\n",
    "        # Different behavior for first entry versus following entries\n",
    "        driver = webdriver.Chrome()\n",
    "\n",
    "        driver.get(page)\n",
    "        content = driver.page_source\n",
    "        soup = BeautifulSoup(content, 'html.parser')\n",
    "\n",
    "        data = {}\n",
    "        for i, a in enumerate(soup.find('main').find('ul').find_all('li')):\n",
    "            #print('{}: {}'.format(i, a))\n",
    "            if i == 1:\n",
    "                data['Molecular Weight'] = [str(a).split('</strong> ')[1].split('<')[0]]\n",
    "            if i == 2:\n",
    "                data['InChI Code'] = [str(a).split('monospace;\">')[1].split('</span></li>')[0]]\n",
    "            if i == 5:\n",
    "                data['InChIKey Code'] = [str(a).split('font-family: monospace;\">')[1].split('</span></li>')[0]]\n",
    "            if i == 6:\n",
    "                data['CAS Reg. #'] = [str(a).split('</strong> ')[1].split('</li>')[0]]\n",
    "\n",
    "        # Need to modify this section to be generalizable to all pages.\n",
    "        # See hanges in beautifulsoup_debug\n",
    "        # Also add in try/except statements if they don't exist.\n",
    "        for i, a in enumerate(soup.find('table', attrs = {'aria-label': 'One dimensional data'}).find('tbody').find_all('tr')):\n",
    "            if i == 6:\n",
    "                try:\n",
    "                    data['TP Temp (K)'] = [str(a).split('-nowrap\">')[1].split('</td')[0]]\n",
    "                except:\n",
    "                    datadata['TP Temp (K)'] = ['NA']\n",
    "            if i == 11:\n",
    "                data['TP Pres (bar)'] = [str(a).split('-nowrap\">')[1].split('</td')[0]]\n",
    "            if i == 16:\n",
    "                data['CP Temp (K)'] = [str(a).split('-nowrap\">')[1].split('</td')[0]]\n",
    "            if i == 21:\n",
    "                data['CP Pres (bar)'] = [str(a).split('-nowrap\">')[1].split('</td')[0]]\n",
    "\n",
    "        driver.quit()\n",
    "\n",
    "        self.data = self.data.append(data, ignore_index=True)\n",
    "        #return data\n",
    "        \n",
    "        # Add in VLE functions"
   ]
  },
  {
   "cell_type": "code",
   "execution_count": 18,
   "metadata": {},
   "outputs": [
    {
     "ename": "IndexError",
     "evalue": "list index out of range",
     "output_type": "error",
     "traceback": [
      "\u001b[1;31m---------------------------------------------------------------------------\u001b[0m",
      "\u001b[1;31mIndexError\u001b[0m                                Traceback (most recent call last)",
      "\u001b[1;32m<ipython-input-18-d195fe78b53c>\u001b[0m in \u001b[0;36m<module>\u001b[1;34m\u001b[0m\n\u001b[1;32m----> 1\u001b[1;33m \u001b[0mdata\u001b[0m \u001b[1;33m=\u001b[0m \u001b[0mnist_pull\u001b[0m\u001b[1;33m(\u001b[0m\u001b[1;34m'https://webbook.nist.gov/cgi/cbook.cgi?ID=C7782447&Units=SI&Mask=4#Thermo-Phase'\u001b[0m\u001b[1;33m)\u001b[0m\u001b[1;33m\u001b[0m\u001b[1;33m\u001b[0m\u001b[0m\n\u001b[0m",
      "\u001b[1;32m<ipython-input-15-a8b044b5c3dd>\u001b[0m in \u001b[0;36mnist_pull\u001b[1;34m(page)\u001b[0m\n\u001b[0;32m     21\u001b[0m     \u001b[1;32mfor\u001b[0m \u001b[0mi\u001b[0m\u001b[1;33m,\u001b[0m \u001b[0ma\u001b[0m \u001b[1;32min\u001b[0m \u001b[0menumerate\u001b[0m\u001b[1;33m(\u001b[0m\u001b[0msoup\u001b[0m\u001b[1;33m.\u001b[0m\u001b[0mfind\u001b[0m\u001b[1;33m(\u001b[0m\u001b[1;34m'table'\u001b[0m\u001b[1;33m,\u001b[0m \u001b[0mattrs\u001b[0m \u001b[1;33m=\u001b[0m \u001b[1;33m{\u001b[0m\u001b[1;34m'aria-label'\u001b[0m\u001b[1;33m:\u001b[0m \u001b[1;34m'One dimensional data'\u001b[0m\u001b[1;33m}\u001b[0m\u001b[1;33m)\u001b[0m\u001b[1;33m.\u001b[0m\u001b[0mfind\u001b[0m\u001b[1;33m(\u001b[0m\u001b[1;34m'tbody'\u001b[0m\u001b[1;33m)\u001b[0m\u001b[1;33m.\u001b[0m\u001b[0mfind_all\u001b[0m\u001b[1;33m(\u001b[0m\u001b[1;34m'tr'\u001b[0m\u001b[1;33m)\u001b[0m\u001b[1;33m)\u001b[0m\u001b[1;33m:\u001b[0m\u001b[1;33m\u001b[0m\u001b[1;33m\u001b[0m\u001b[0m\n\u001b[0;32m     22\u001b[0m         \u001b[1;32mif\u001b[0m \u001b[0mi\u001b[0m \u001b[1;33m==\u001b[0m \u001b[1;36m6\u001b[0m\u001b[1;33m:\u001b[0m\u001b[1;33m\u001b[0m\u001b[1;33m\u001b[0m\u001b[0m\n\u001b[1;32m---> 23\u001b[1;33m             \u001b[0mdata\u001b[0m\u001b[1;33m[\u001b[0m\u001b[1;34m'TP Temp (K)'\u001b[0m\u001b[1;33m]\u001b[0m \u001b[1;33m=\u001b[0m \u001b[0mstr\u001b[0m\u001b[1;33m(\u001b[0m\u001b[0ma\u001b[0m\u001b[1;33m)\u001b[0m\u001b[1;33m.\u001b[0m\u001b[0msplit\u001b[0m\u001b[1;33m(\u001b[0m\u001b[1;34m'-nowrap\">'\u001b[0m\u001b[1;33m)\u001b[0m\u001b[1;33m[\u001b[0m\u001b[1;36m1\u001b[0m\u001b[1;33m]\u001b[0m\u001b[1;33m.\u001b[0m\u001b[0msplit\u001b[0m\u001b[1;33m(\u001b[0m\u001b[1;34m'</td'\u001b[0m\u001b[1;33m)\u001b[0m\u001b[1;33m[\u001b[0m\u001b[1;36m0\u001b[0m\u001b[1;33m]\u001b[0m\u001b[1;33m\u001b[0m\u001b[1;33m\u001b[0m\u001b[0m\n\u001b[0m\u001b[0;32m     24\u001b[0m         \u001b[1;32mif\u001b[0m \u001b[0mi\u001b[0m \u001b[1;33m==\u001b[0m \u001b[1;36m11\u001b[0m\u001b[1;33m:\u001b[0m\u001b[1;33m\u001b[0m\u001b[1;33m\u001b[0m\u001b[0m\n\u001b[0;32m     25\u001b[0m             \u001b[0mdata\u001b[0m\u001b[1;33m[\u001b[0m\u001b[1;34m'TP Pres (bar)'\u001b[0m\u001b[1;33m]\u001b[0m \u001b[1;33m=\u001b[0m \u001b[0mstr\u001b[0m\u001b[1;33m(\u001b[0m\u001b[0ma\u001b[0m\u001b[1;33m)\u001b[0m\u001b[1;33m.\u001b[0m\u001b[0msplit\u001b[0m\u001b[1;33m(\u001b[0m\u001b[1;34m'-nowrap\">'\u001b[0m\u001b[1;33m)\u001b[0m\u001b[1;33m[\u001b[0m\u001b[1;36m1\u001b[0m\u001b[1;33m]\u001b[0m\u001b[1;33m.\u001b[0m\u001b[0msplit\u001b[0m\u001b[1;33m(\u001b[0m\u001b[1;34m'</td'\u001b[0m\u001b[1;33m)\u001b[0m\u001b[1;33m[\u001b[0m\u001b[1;36m0\u001b[0m\u001b[1;33m]\u001b[0m\u001b[1;33m\u001b[0m\u001b[1;33m\u001b[0m\u001b[0m\n",
      "\u001b[1;31mIndexError\u001b[0m: list index out of range"
     ]
    }
   ],
   "source": [
    "data = nist_pull('https://webbook.nist.gov/cgi/cbook.cgi?ID=C7782447&Units=SI&Mask=4#Thermo-Phase')"
   ]
  },
  {
   "cell_type": "code",
   "execution_count": 54,
   "metadata": {},
   "outputs": [],
   "source": [
    "data = Thermo()"
   ]
  },
  {
   "cell_type": "code",
   "execution_count": 12,
   "metadata": {},
   "outputs": [],
   "source": [
    "data = {}\n",
    "\n",
    "data['MW'] = [28.1]\n",
    "data['Name'] = ['Nitrogen']\n",
    "data['TP Temp'] = [100]"
   ]
  },
  {
   "cell_type": "code",
   "execution_count": 13,
   "metadata": {},
   "outputs": [],
   "source": [
    "df = pd.DataFrame(data=data)\n",
    "df = df.set_index('Name')"
   ]
  },
  {
   "cell_type": "code",
   "execution_count": 25,
   "metadata": {},
   "outputs": [
    {
     "data": {
      "text/html": [
       "<div>\n",
       "<style scoped>\n",
       "    .dataframe tbody tr th:only-of-type {\n",
       "        vertical-align: middle;\n",
       "    }\n",
       "\n",
       "    .dataframe tbody tr th {\n",
       "        vertical-align: top;\n",
       "    }\n",
       "\n",
       "    .dataframe thead th {\n",
       "        text-align: right;\n",
       "    }\n",
       "</style>\n",
       "<table border=\"1\" class=\"dataframe\">\n",
       "  <thead>\n",
       "    <tr style=\"text-align: right;\">\n",
       "      <th></th>\n",
       "      <th>Molecular Weight</th>\n",
       "      <th>InChI Code</th>\n",
       "      <th>InChIKey Code</th>\n",
       "      <th>CAS Reg. #</th>\n",
       "      <th>TP Temp (K)</th>\n",
       "    </tr>\n",
       "  </thead>\n",
       "  <tbody>\n",
       "  </tbody>\n",
       "</table>\n",
       "</div>"
      ],
      "text/plain": [
       "Empty DataFrame\n",
       "Columns: [Molecular Weight, InChI Code, InChIKey Code, CAS Reg. #, TP Temp (K)]\n",
       "Index: []"
      ]
     },
     "execution_count": 25,
     "metadata": {},
     "output_type": "execute_result"
    }
   ],
   "source": [
    "data.data"
   ]
  },
  {
   "cell_type": "code",
   "execution_count": 57,
   "metadata": {},
   "outputs": [],
   "source": [
    "test = data.nist_pull()"
   ]
  },
  {
   "cell_type": "code",
   "execution_count": 51,
   "metadata": {},
   "outputs": [
    {
     "data": {
      "text/plain": [
       "{'Molecular Weight': ['28.0134'],\n",
       " 'InChI Code': ['InChI=1S/N2/c1-2'],\n",
       " 'InChIKey Code': ['IJGRMHOSHXDMSA-UHFFFAOYSA-N'],\n",
       " 'CAS Reg. #': ['7727-37-9'],\n",
       " 'TP Temp (K)': ['63.14'],\n",
       " 'TP Pres (bar)': ['0.1252'],\n",
       " 'CP Temp (K)': ['126.19'],\n",
       " 'CP Pres (bar)': ['33.978']}"
      ]
     },
     "execution_count": 51,
     "metadata": {},
     "output_type": "execute_result"
    }
   ],
   "source": [
    "test"
   ]
  },
  {
   "cell_type": "code",
   "execution_count": 58,
   "metadata": {},
   "outputs": [
    {
     "data": {
      "text/html": [
       "<div>\n",
       "<style scoped>\n",
       "    .dataframe tbody tr th:only-of-type {\n",
       "        vertical-align: middle;\n",
       "    }\n",
       "\n",
       "    .dataframe tbody tr th {\n",
       "        vertical-align: top;\n",
       "    }\n",
       "\n",
       "    .dataframe thead th {\n",
       "        text-align: right;\n",
       "    }\n",
       "</style>\n",
       "<table border=\"1\" class=\"dataframe\">\n",
       "  <thead>\n",
       "    <tr style=\"text-align: right;\">\n",
       "      <th></th>\n",
       "      <th>Molecular Weight</th>\n",
       "      <th>InChI Code</th>\n",
       "      <th>InChIKey Code</th>\n",
       "      <th>CAS Reg. #</th>\n",
       "      <th>TP Temp (K)</th>\n",
       "      <th>CP Pres (bar)</th>\n",
       "      <th>CP Temp (K)</th>\n",
       "      <th>TP Pres (bar)</th>\n",
       "    </tr>\n",
       "  </thead>\n",
       "  <tbody>\n",
       "    <tr>\n",
       "      <th>0</th>\n",
       "      <td>[28.0134]</td>\n",
       "      <td>[InChI=1S/N2/c1-2]</td>\n",
       "      <td>[IJGRMHOSHXDMSA-UHFFFAOYSA-N]</td>\n",
       "      <td>[7727-37-9]</td>\n",
       "      <td>[63.14]</td>\n",
       "      <td>[33.978]</td>\n",
       "      <td>[126.19]</td>\n",
       "      <td>[0.1252]</td>\n",
       "    </tr>\n",
       "    <tr>\n",
       "      <th>1</th>\n",
       "      <td>[28.0134]</td>\n",
       "      <td>[InChI=1S/N2/c1-2]</td>\n",
       "      <td>[IJGRMHOSHXDMSA-UHFFFAOYSA-N]</td>\n",
       "      <td>[7727-37-9]</td>\n",
       "      <td>[63.14]</td>\n",
       "      <td>[33.978]</td>\n",
       "      <td>[126.19]</td>\n",
       "      <td>[0.1252]</td>\n",
       "    </tr>\n",
       "  </tbody>\n",
       "</table>\n",
       "</div>"
      ],
      "text/plain": [
       "  Molecular Weight          InChI Code                  InChIKey Code  \\\n",
       "0        [28.0134]  [InChI=1S/N2/c1-2]  [IJGRMHOSHXDMSA-UHFFFAOYSA-N]   \n",
       "1        [28.0134]  [InChI=1S/N2/c1-2]  [IJGRMHOSHXDMSA-UHFFFAOYSA-N]   \n",
       "\n",
       "    CAS Reg. # TP Temp (K) CP Pres (bar) CP Temp (K) TP Pres (bar)  \n",
       "0  [7727-37-9]     [63.14]      [33.978]    [126.19]      [0.1252]  \n",
       "1  [7727-37-9]     [63.14]      [33.978]    [126.19]      [0.1252]  "
      ]
     },
     "execution_count": 58,
     "metadata": {},
     "output_type": "execute_result"
    }
   ],
   "source": [
    "data.data"
   ]
  },
  {
   "cell_type": "code",
   "execution_count": null,
   "metadata": {},
   "outputs": [],
   "source": [
    "def nist_pull(page='https://webbook.nist.gov/cgi/cbook.cgi?ID=C7727379&Units=SI&Mask=4#Thermo-Phase'):\n",
    "\n",
    "        #https://webbook.nist.gov/cgi/cbook.cgi?ID=C7782447&Units=SI&Mask=4#Thermo-Phase\n",
    "        #'https://webbook.nist.gov/cgi/cbook.cgi?ID=C7727379&Units=SI&Mask=4#Thermo-Phase'\n",
    "\n",
    "        # Update so chemical id is the input\n",
    "\n",
    "        # Different behavior for first entry versus following entries\n",
    "        driver = webdriver.Chrome()\n",
    "\n",
    "        driver.get(page)\n",
    "        content = driver.page_source\n",
    "        soup = BeautifulSoup(content, 'html.parser')\n",
    "\n",
    "        data = {}\n",
    "        for i, a in enumerate(soup.find('main').find('ul').find_all('li')):\n",
    "            #print('{}: {}'.format(i, a))\n",
    "            if i == 1:\n",
    "                data['Molecular Weight'] = [str(a).split('</strong> ')[1].split('<')[0]]\n",
    "            if i == 2:\n",
    "                data['InChI Code'] = [str(a).split('monospace;\">')[1].split('</span></li>')[0]]\n",
    "            if i == 5:\n",
    "                data['InChIKey Code'] = [str(a).split('font-family: monospace;\">')[1].split('</span></li>')[0]]\n",
    "            if i == 6:\n",
    "                data['CAS Reg. #'] = [str(a).split('</strong> ')[1].split('</li>')[0]]\n",
    "\n",
    "        # Need to modify this section to be generalizable to all pages.\n",
    "        # See hanges in beautifulsoup_debug\n",
    "        # Also add in try/except statements if they don't exist.\n",
    "        for i, a in enumerate(soup.find('table', attrs = {'aria-label': 'One dimensional data'}).find('tbody').find_all('tr')):\n",
    "            if i == 6:\n",
    "                try:\n",
    "                    data['TP Temp (K)'] = [str(a).split('-nowrap\">')[1].split('</td')[0]]\n",
    "                except:\n",
    "                    datadata['TP Temp (K)'] = ['NA']\n",
    "            if i == 11:\n",
    "                data['TP Pres (bar)'] = [str(a).split('-nowrap\">')[1].split('</td')[0]]\n",
    "            if i == 16:\n",
    "                data['CP Temp (K)'] = [str(a).split('-nowrap\">')[1].split('</td')[0]]\n",
    "            if i == 21:\n",
    "                data['CP Pres (bar)'] = [str(a).split('-nowrap\">')[1].split('</td')[0]]\n",
    "\n",
    "        driver.quit()\n",
    "\n",
    "        return data\n",
    "        #self.data.append(data, ignore_index=True)"
   ]
  }
 ],
 "metadata": {
  "kernelspec": {
   "display_name": "Python 3",
   "language": "python",
   "name": "python3"
  },
  "language_info": {
   "codemirror_mode": {
    "name": "ipython",
    "version": 3
   },
   "file_extension": ".py",
   "mimetype": "text/x-python",
   "name": "python",
   "nbconvert_exporter": "python",
   "pygments_lexer": "ipython3",
   "version": "3.7.2"
  }
 },
 "nbformat": 4,
 "nbformat_minor": 4
}
