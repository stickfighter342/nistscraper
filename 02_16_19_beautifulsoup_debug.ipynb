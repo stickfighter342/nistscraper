{
 "cells": [
  {
   "cell_type": "code",
   "execution_count": 5,
   "metadata": {},
   "outputs": [],
   "source": [
    "from selenium import webdriver\n",
    "from bs4 import BeautifulSoup\n",
    "import pandas as pd\n"
   ]
  },
  {
   "cell_type": "code",
   "execution_count": 6,
   "metadata": {},
   "outputs": [],
   "source": [
    "driver = webdriver.Chrome()\n",
    "\n",
    "products = [] # List to store name of the product\n",
    "prices = [] # List to store price of the product\n",
    "ratings = [] # List to store rating of the products\n",
    "\n",
    "driver.get('https://webbook.nist.gov/cgi/cbook.cgi?Formula=N2&NoIon=on&Units=SI')"
   ]
  },
  {
   "cell_type": "code",
   "execution_count": 7,
   "metadata": {},
   "outputs": [],
   "source": [
    "content = driver.page_source\n",
    "soup = BeautifulSoup(content, 'html.parser')\n",
    "#print(soup.prettify())\n",
    "for a in soup.find_all('main', attrs = {'li'}):\n",
    "    name=a.find('div', attrs={'class':'_3wU53n'})\n",
    "    price=a.find('div', attrs={'class':'_1vC4OE _2rQ-NK'})\n",
    "    print(a)"
   ]
  },
  {
   "cell_type": "code",
   "execution_count": 10,
   "metadata": {},
   "outputs": [
    {
     "name": "stdout",
     "output_type": "stream",
     "text": [
      "28.0134\n",
      "InChI=1S/N2/c1-2\n"
     ]
    }
   ],
   "source": [
    "for i, a in enumerate(soup.find('main').find('ul').find_all('li')):\n",
    "    #print('{}: {}'.format(i, a))\n",
    "    if i == 1:\n",
    "        print(str(a).split('</strong> ')[1].split('<')[0])\n",
    "    if i == 2:\n",
    "        print(str(a).split('monospace;\">')[1].split('</span></li>')[0])"
   ]
  },
  {
   "cell_type": "code",
   "execution_count": null,
   "metadata": {},
   "outputs": [],
   "source": []
  }
 ],
 "metadata": {
  "kernelspec": {
   "display_name": "Python 3",
   "language": "python",
   "name": "python3"
  }
 },
 "nbformat": 4,
 "nbformat_minor": 4
}
