{
 "cells": [
  {
   "cell_type": "code",
   "execution_count": 4,
   "metadata": {},
   "outputs": [],
   "source": [
    "from selenium import webdriver\n",
    "from bs4 import BeautifulSoup\n",
    "import pandas as pd\n"
   ]
  },
  {
   "cell_type": "code",
   "execution_count": 17,
   "metadata": {},
   "outputs": [],
   "source": [
    "driver = webdriver.Chrome()\n",
    "\n",
    "products = [] # List to store name of the product\n",
    "prices = [] # List to store price of the product\n",
    "ratings = [] # List to store rating of the products\n",
    "\n",
    "\n",
    "#driver.get('https://webbook.nist.gov/cgi/cbook.cgi?ID=C7727379&Units=SI&Mask=4#Thermo-Phase')\n",
    "driver.get('https://webbook.nist.gov/cgi/cbook.cgi?ID=C7782447&Units=SI&Mask=4#Thermo-Phase')"
   ]
  },
  {
   "cell_type": "code",
   "execution_count": 3,
   "metadata": {},
   "outputs": [],
   "source": [
    "driver.quit()"
   ]
  },
  {
   "cell_type": "code",
   "execution_count": 18,
   "metadata": {},
   "outputs": [],
   "source": [
    "content = driver.page_source\n",
    "soup = BeautifulSoup(content, 'html.parser')\n",
    "#print(soup.prettify())\n",
    "for a in soup.find_all('main', attrs = {'li'}):\n",
    "    name=a.find('div', attrs={'class':'_3wU53n'})\n",
    "    price=a.find('div', attrs={'class':'_1vC4OE _2rQ-NK'})\n",
    "    print(a)"
   ]
  },
  {
   "cell_type": "code",
   "execution_count": 19,
   "metadata": {},
   "outputs": [
    {
     "name": "stdout",
     "output_type": "stream",
     "text": [
      "31.9988\n",
      "InChI=1S/O2/c1-2\n",
      "MYMOFIZGZYHOMD-UHFFFAOYSA-N\n",
      "7782-44-7\n"
     ]
    }
   ],
   "source": [
    "data = {}\n",
    "\n",
    "for i, a in enumerate(soup.find('main').find('ul').find_all('li')):\n",
    "    #print('{}: {}'.format(i, a))\n",
    "    if i == 1:\n",
    "        print(str(a).split('</strong> ')[1].split('<')[0])\n",
    "        data['Molecular Weight'] = [str(a).split('</strong> ')[1].split('<')[0]]\n",
    "    if i == 2:\n",
    "        print(str(a).split('monospace;\">')[1].split('</span></li>')[0])\n",
    "        data['InChI Code'] = [str(a).split('monospace;\">')[1].split('</span></li>')[0]]\n",
    "    if i == 5:\n",
    "        print(str(a).split('font-family: monospace;\">')[1].split('</span></li>')[0])\n",
    "        data['InChIKey Code'] = str(a).split('font-family: monospace;\">')[1].split('</span></li>')[0]\n",
    "    if i == 6:\n",
    "        print(str(a).split('</strong> ')[1].split('</li>')[0])\n",
    "        data['CAS Reg. #'] = str(a).split('</strong> ')[1].split('</li>')[0]"
   ]
  },
  {
   "cell_type": "code",
   "execution_count": 20,
   "metadata": {},
   "outputs": [],
   "source": [
    "dt = pd.DataFrame(data)\n",
    "#dt = dt.set_index('ID')\n"
   ]
  },
  {
   "cell_type": "code",
   "execution_count": 9,
   "metadata": {},
   "outputs": [
    {
     "name": "stdout",
     "output_type": "stream",
     "text": [
      "0: <tr>\n",
      "<th scope=\"col\">Quantity</th>\n",
      "<th scope=\"col\">Value</th>\n",
      "<th scope=\"col\">Units</th>\n",
      "<th scope=\"col\">Method</th>\n",
      "<th scope=\"col\">Reference</th>\n",
      "<th scope=\"col\">Comment</th>\n",
      "</tr>\n",
      "1: <tr class=\"exp\"><td style=\"text-align: left;\">T<sub>boil</sub></td><td class=\"right-nowrap\">77.34</td><td style=\"text-align: right;\">K</td><td style=\"text-align: center;\">N/A</td><td style=\"text-align: left;\"><a href=\"#ref-1\">Jacobsen, Stewart, et al., 1986</a></td><td style=\"text-align: left;\"><em>TRC</em></td></tr>\n",
      "2: <tr class=\"exp\"><td style=\"text-align: left;\">T<sub>boil</sub></td><td class=\"right-nowrap\">77.4</td><td style=\"text-align: right;\">K</td><td style=\"text-align: center;\">N/A</td><td style=\"text-align: left;\"><a href=\"#ref-2\">Streng, 1971</a></td><td style=\"text-align: left;\">Uncertainty assigned by TRC =  0.3 K; <em>TRC</em></td></tr>\n",
      "3: <tr>\n",
      "<th scope=\"col\">Quantity</th>\n",
      "<th scope=\"col\">Value</th>\n",
      "<th scope=\"col\">Units</th>\n",
      "<th scope=\"col\">Method</th>\n",
      "<th scope=\"col\">Reference</th>\n",
      "<th scope=\"col\">Comment</th>\n",
      "</tr>\n",
      "4: <tr class=\"exp\"><td style=\"text-align: left;\">T<sub>fus</sub></td><td class=\"right-nowrap\">63.3</td><td style=\"text-align: right;\">K</td><td style=\"text-align: center;\">N/A</td><td style=\"text-align: left;\"><a href=\"#ref-2\">Streng, 1971</a></td><td style=\"text-align: left;\">Uncertainty assigned by TRC =  0.3 K; <em>TRC</em></td></tr>\n",
      "5: <tr>\n",
      "<th scope=\"col\">Quantity</th>\n",
      "<th scope=\"col\">Value</th>\n",
      "<th scope=\"col\">Units</th>\n",
      "<th scope=\"col\">Method</th>\n",
      "<th scope=\"col\">Reference</th>\n",
      "<th scope=\"col\">Comment</th>\n",
      "</tr>\n",
      "6: <tr class=\"exp\"><td style=\"text-align: left;\">T<sub>triple</sub></td><td class=\"right-nowrap\">63.14</td><td style=\"text-align: right;\">K</td><td style=\"text-align: center;\">N/A</td><td style=\"text-align: left;\"><a href=\"#ref-1\">Jacobsen, Stewart, et al., 1986</a></td><td style=\"text-align: left;\"><em>TRC</em></td></tr>\n",
      "7: <tr class=\"exp\"><td style=\"text-align: left;\">T<sub>triple</sub></td><td class=\"right-nowrap\">63.14</td><td style=\"text-align: right;\">K</td><td style=\"text-align: center;\">N/A</td><td style=\"text-align: left;\"><a href=\"#ref-3\">Angus, de Reuck, et al., 1979</a></td><td style=\"text-align: left;\">Uncertainty assigned by TRC =  0.005 K; <em>TRC</em></td></tr>\n",
      "8: <tr class=\"exp\"><td style=\"text-align: left;\">T<sub>triple</sub></td><td class=\"right-nowrap\">63.14</td><td style=\"text-align: right;\">K</td><td style=\"text-align: center;\">N/A</td><td style=\"text-align: left;\"><a href=\"#ref-4\">Henning and Otto, 1936</a></td><td style=\"text-align: left;\">Uncertainty assigned by TRC =  0.06 K; temperature measured with He gas thermometer; <em>TRC</em></td></tr>\n",
      "9: <tr class=\"exp\"><td style=\"text-align: left;\">T<sub>triple</sub></td><td class=\"right-nowrap\">63.13</td><td style=\"text-align: right;\">K</td><td style=\"text-align: center;\">N/A</td><td style=\"text-align: left;\"><a href=\"#ref-5\">Giauque and Clayton, 1933</a></td><td style=\"text-align: left;\">Crystal phase 1 phase; Uncertainty assigned by TRC =  0.06 K; <em>TRC</em></td></tr>\n",
      "10: <tr>\n",
      "<th scope=\"col\">Quantity</th>\n",
      "<th scope=\"col\">Value</th>\n",
      "<th scope=\"col\">Units</th>\n",
      "<th scope=\"col\">Method</th>\n",
      "<th scope=\"col\">Reference</th>\n",
      "<th scope=\"col\">Comment</th>\n",
      "</tr>\n",
      "11: <tr class=\"exp\"><td style=\"text-align: left;\">P<sub>triple</sub></td><td class=\"right-nowrap\">0.1252</td><td style=\"text-align: right;\">bar</td><td style=\"text-align: center;\">N/A</td><td style=\"text-align: left;\"><a href=\"#ref-1\">Jacobsen, Stewart, et al., 1986</a></td><td style=\"text-align: left;\">Uncertainty assigned by TRC =  0.0005 bar; <em>TRC</em></td></tr>\n",
      "12: <tr class=\"exp\"><td style=\"text-align: left;\">P<sub>triple</sub></td><td class=\"right-nowrap\">0.1253</td><td style=\"text-align: right;\">bar</td><td style=\"text-align: center;\">N/A</td><td style=\"text-align: left;\"><a href=\"#ref-3\">Angus, de Reuck, et al., 1979</a></td><td style=\"text-align: left;\">Uncertainty assigned by TRC =  0.0002 bar; <em>TRC</em></td></tr>\n",
      "13: <tr class=\"exp\"><td style=\"text-align: left;\">P<sub>triple</sub></td><td class=\"right-nowrap\">0.126</td><td style=\"text-align: right;\">bar</td><td style=\"text-align: center;\">N/A</td><td style=\"text-align: left;\"><a href=\"#ref-4\">Henning and Otto, 1936</a></td><td style=\"text-align: left;\">Uncertainty assigned by TRC =  0.0007 bar; <em>TRC</em></td></tr>\n",
      "14: <tr class=\"exp\"><td style=\"text-align: left;\">P<sub>triple</sub></td><td class=\"right-nowrap\">0.1253</td><td style=\"text-align: right;\">bar</td><td style=\"text-align: center;\">N/A</td><td style=\"text-align: left;\"><a href=\"#ref-5\">Giauque and Clayton, 1933</a></td><td style=\"text-align: left;\">Crystal phase 1 phase; Uncertainty assigned by TRC =  0.0001 bar; Average Pressure; <em>TRC</em></td></tr>\n",
      "15: <tr>\n",
      "<th scope=\"col\">Quantity</th>\n",
      "<th scope=\"col\">Value</th>\n",
      "<th scope=\"col\">Units</th>\n",
      "<th scope=\"col\">Method</th>\n",
      "<th scope=\"col\">Reference</th>\n",
      "<th scope=\"col\">Comment</th>\n",
      "</tr>\n",
      "16: <tr class=\"exp\"><td style=\"text-align: left;\">T<sub>c</sub></td><td class=\"right-nowrap\">126.19</td><td style=\"text-align: right;\">K</td><td style=\"text-align: center;\">N/A</td><td style=\"text-align: left;\"><a href=\"#ref-1\">Jacobsen, Stewart, et al., 1986</a></td><td style=\"text-align: left;\">Uncertainty assigned by TRC =  0.01 K; <em>TRC</em></td></tr>\n",
      "17: <tr class=\"exp\"><td style=\"text-align: left;\">T<sub>c</sub></td><td class=\"right-nowrap\">126.2</td><td style=\"text-align: right;\">K</td><td style=\"text-align: center;\">N/A</td><td style=\"text-align: left;\"><a href=\"#ref-3\">Angus, de Reuck, et al., 1979</a></td><td style=\"text-align: left;\">Uncertainty assigned by TRC =  0.05 K; <em>TRC</em></td></tr>\n",
      "18: <tr class=\"exp\"><td style=\"text-align: left;\">T<sub>c</sub></td><td class=\"right-nowrap\">126.2</td><td style=\"text-align: right;\">K</td><td style=\"text-align: center;\">N/A</td><td style=\"text-align: left;\"><a href=\"#ref-6\">Weber, 1970</a></td><td style=\"text-align: left;\">Uncertainty assigned by TRC =  0.2 K; IPTS-68, critical point not observed and Tc taken from literature but equation would allow pc to be calculated. Tc unct. several tenths K. \"Ultra-high\" purity nitrogen.; <em>TRC</em></td></tr>\n",
      "19: <tr class=\"exp\"><td style=\"text-align: left;\">T<sub>c</sub></td><td class=\"right-nowrap\">128.45</td><td style=\"text-align: right;\">K</td><td style=\"text-align: center;\">N/A</td><td style=\"text-align: left;\"><a href=\"#ref-7\">Cardoso, 1915</a></td><td style=\"text-align: left;\">Uncertainty assigned by TRC =  0.5 K; <em>TRC</em></td></tr>\n",
      "20: <tr>\n",
      "<th scope=\"col\">Quantity</th>\n",
      "<th scope=\"col\">Value</th>\n",
      "<th scope=\"col\">Units</th>\n",
      "<th scope=\"col\">Method</th>\n",
      "<th scope=\"col\">Reference</th>\n",
      "<th scope=\"col\">Comment</th>\n",
      "</tr>\n",
      "21: <tr class=\"exp\"><td style=\"text-align: left;\">P<sub>c</sub></td><td class=\"right-nowrap\">33.978</td><td style=\"text-align: right;\">bar</td><td style=\"text-align: center;\">N/A</td><td style=\"text-align: left;\"><a href=\"#ref-1\">Jacobsen, Stewart, et al., 1986</a></td><td style=\"text-align: left;\">Uncertainty assigned by TRC =  0.007 bar; <em>TRC</em></td></tr>\n",
      "22: <tr class=\"exp\"><td style=\"text-align: left;\">P<sub>c</sub></td><td class=\"right-nowrap\">34.00</td><td style=\"text-align: right;\">bar</td><td style=\"text-align: center;\">N/A</td><td style=\"text-align: left;\"><a href=\"#ref-3\">Angus, de Reuck, et al., 1979</a></td><td style=\"text-align: left;\">Uncertainty assigned by TRC =  0.05 bar; <em>TRC</em></td></tr>\n",
      "23: <tr class=\"exp\"><td style=\"text-align: left;\">P<sub>c</sub></td><td class=\"right-nowrap\">3.0698</td><td style=\"text-align: right;\">bar</td><td style=\"text-align: center;\">N/A</td><td style=\"text-align: left;\"><a href=\"#ref-7\">Cardoso, 1915</a></td><td style=\"text-align: left;\">Uncertainty assigned by TRC =  0.003 bar; <em>TRC</em></td></tr>\n",
      "24: <tr class=\"exp\"><td style=\"text-align: left;\">P<sub>c</sub></td><td class=\"right-nowrap\">3.0682</td><td style=\"text-align: right;\">bar</td><td style=\"text-align: center;\">N/A</td><td style=\"text-align: left;\"><a href=\"#ref-7\">Cardoso, 1915</a></td><td style=\"text-align: left;\">Uncertainty assigned by TRC =  0.003 bar; <em>TRC</em></td></tr>\n",
      "25: <tr>\n",
      "<th scope=\"col\">Quantity</th>\n",
      "<th scope=\"col\">Value</th>\n",
      "<th scope=\"col\">Units</th>\n",
      "<th scope=\"col\">Method</th>\n",
      "<th scope=\"col\">Reference</th>\n",
      "<th scope=\"col\">Comment</th>\n",
      "</tr>\n",
      "26: <tr class=\"exp\"><td style=\"text-align: left;\">ρ<sub>c</sub></td><td class=\"right-nowrap\">11.18</td><td style=\"text-align: right;\">mol/l</td><td style=\"text-align: center;\">N/A</td><td style=\"text-align: left;\"><a href=\"#ref-1\">Jacobsen, Stewart, et al., 1986</a></td><td style=\"text-align: left;\">Uncertainty assigned by TRC =  0.02 mol/l; <em>TRC</em></td></tr>\n",
      "27: <tr class=\"exp\"><td style=\"text-align: left;\">ρ<sub>c</sub></td><td class=\"right-nowrap\">11.2</td><td style=\"text-align: right;\">mol/l</td><td style=\"text-align: center;\">N/A</td><td style=\"text-align: left;\"><a href=\"#ref-3\">Angus, de Reuck, et al., 1979</a></td><td style=\"text-align: left;\">Uncertainty assigned by TRC =  0.02 mol/l; <em>TRC</em></td></tr>\n"
     ]
    }
   ],
   "source": [
    "for i, a in enumerate(soup.find('table', attrs = {'aria-label': 'One dimensional data'}).find('tbody').find_all('tr')):\n",
    "    print('{}: {}'.format(i, a))\n",
    "#     if i == 6:\n",
    "#         print(str(a).split('-nowrap\">')[1].split('</td')[0])\n",
    "#     if i == 11:\n",
    "#         print(str(a).split('-nowrap\">')[1].split('</td')[0])\n",
    "#     if i == 16:\n",
    "#         print(str(a).split('-nowrap\">')[1].split('</td')[0])\n",
    "    "
   ]
  },
  {
   "cell_type": "code",
   "execution_count": 21,
   "metadata": {},
   "outputs": [],
   "source": [
    "test_data = str(soup.find('table', attrs = {'aria-label': 'One dimensional data'}).find('tbody'))"
   ]
  },
  {
   "cell_type": "code",
   "execution_count": 23,
   "metadata": {},
   "outputs": [
    {
     "data": {
      "text/plain": [
       "'54.33'"
      ]
     },
     "execution_count": 23,
     "metadata": {},
     "output_type": "execute_result"
    }
   ],
   "source": [
    "test_data.split('T<sub>triple</sub></td><td class=\"right-nowrap\">')[1].split('</td>')[0]"
   ]
  },
  {
   "cell_type": "code",
   "execution_count": 32,
   "metadata": {},
   "outputs": [
    {
     "data": {
      "text/html": [
       "<div>\n",
       "<style scoped>\n",
       "    .dataframe tbody tr th:only-of-type {\n",
       "        vertical-align: middle;\n",
       "    }\n",
       "\n",
       "    .dataframe tbody tr th {\n",
       "        vertical-align: top;\n",
       "    }\n",
       "\n",
       "    .dataframe thead th {\n",
       "        text-align: right;\n",
       "    }\n",
       "</style>\n",
       "<table border=\"1\" class=\"dataframe\">\n",
       "  <thead>\n",
       "    <tr style=\"text-align: right;\">\n",
       "      <th></th>\n",
       "      <th>MW</th>\n",
       "      <th>ID</th>\n",
       "      <th>CAS Reg. #</th>\n",
       "      <th>InChI Code</th>\n",
       "      <th>InChIKey Code</th>\n",
       "      <th>Molecular Weight</th>\n",
       "    </tr>\n",
       "  </thead>\n",
       "  <tbody>\n",
       "    <tr>\n",
       "      <td>0</td>\n",
       "      <td>28.0134</td>\n",
       "      <td>InChI=1S/N2/c1-2</td>\n",
       "      <td>NaN</td>\n",
       "      <td>NaN</td>\n",
       "      <td>NaN</td>\n",
       "      <td>NaN</td>\n",
       "    </tr>\n",
       "    <tr>\n",
       "      <td>1</td>\n",
       "      <td>NaN</td>\n",
       "      <td>NaN</td>\n",
       "      <td>7727-37-9</td>\n",
       "      <td>[InChI=1S/N2/c1-2]</td>\n",
       "      <td>IJGRMHOSHXDMSA-UHFFFAOYSA-N</td>\n",
       "      <td>[28.0134]</td>\n",
       "    </tr>\n",
       "  </tbody>\n",
       "</table>\n",
       "</div>"
      ],
      "text/plain": [
       "        MW                ID CAS Reg. #          InChI Code  \\\n",
       "0  28.0134  InChI=1S/N2/c1-2        NaN                 NaN   \n",
       "1      NaN               NaN  7727-37-9  [InChI=1S/N2/c1-2]   \n",
       "\n",
       "                 InChIKey Code Molecular Weight  \n",
       "0                          NaN              NaN  \n",
       "1  IJGRMHOSHXDMSA-UHFFFAOYSA-N        [28.0134]  "
      ]
     },
     "execution_count": 32,
     "metadata": {},
     "output_type": "execute_result"
    }
   ],
   "source": [
    "dt.append(data, ignore_index=True)"
   ]
  },
  {
   "cell_type": "code",
   "execution_count": 28,
   "metadata": {},
   "outputs": [
    {
     "data": {
      "text/html": [
       "<div>\n",
       "<style scoped>\n",
       "    .dataframe tbody tr th:only-of-type {\n",
       "        vertical-align: middle;\n",
       "    }\n",
       "\n",
       "    .dataframe tbody tr th {\n",
       "        vertical-align: top;\n",
       "    }\n",
       "\n",
       "    .dataframe thead th {\n",
       "        text-align: right;\n",
       "    }\n",
       "</style>\n",
       "<table border=\"1\" class=\"dataframe\">\n",
       "  <thead>\n",
       "    <tr style=\"text-align: right;\">\n",
       "      <th></th>\n",
       "      <th>MW</th>\n",
       "      <th>ID</th>\n",
       "      <th>CAS Reg. #</th>\n",
       "      <th>InChI Code</th>\n",
       "      <th>InChIKey Code</th>\n",
       "      <th>Molecular Weight</th>\n",
       "    </tr>\n",
       "  </thead>\n",
       "  <tbody>\n",
       "    <tr>\n",
       "      <td>0</td>\n",
       "      <td>28.0134</td>\n",
       "      <td>InChI=1S/N2/c1-2</td>\n",
       "      <td>NaN</td>\n",
       "      <td>NaN</td>\n",
       "      <td>NaN</td>\n",
       "      <td>NaN</td>\n",
       "    </tr>\n",
       "    <tr>\n",
       "      <td>1</td>\n",
       "      <td>NaN</td>\n",
       "      <td>NaN</td>\n",
       "      <td>7727-37-9</td>\n",
       "      <td>[InChI=1S/N2/c1-2]</td>\n",
       "      <td>IJGRMHOSHXDMSA-UHFFFAOYSA-N</td>\n",
       "      <td>[28.0134]</td>\n",
       "    </tr>\n",
       "  </tbody>\n",
       "</table>\n",
       "</div>"
      ],
      "text/plain": [
       "        MW                ID CAS Reg. #          InChI Code  \\\n",
       "0  28.0134  InChI=1S/N2/c1-2        NaN                 NaN   \n",
       "1      NaN               NaN  7727-37-9  [InChI=1S/N2/c1-2]   \n",
       "\n",
       "                 InChIKey Code Molecular Weight  \n",
       "0                          NaN              NaN  \n",
       "1  IJGRMHOSHXDMSA-UHFFFAOYSA-N        [28.0134]  "
      ]
     },
     "execution_count": 28,
     "metadata": {},
     "output_type": "execute_result"
    }
   ],
   "source": []
  },
  {
   "cell_type": "code",
   "execution_count": null,
   "metadata": {},
   "outputs": [],
   "source": []
  }
 ],
 "metadata": {
  "kernelspec": {
   "display_name": "Python 3",
   "language": "python",
   "name": "python3"
  },
  "language_info": {
   "codemirror_mode": {
    "name": "ipython",
    "version": 3
   },
   "file_extension": ".py",
   "mimetype": "text/x-python",
   "name": "python",
   "nbconvert_exporter": "python",
   "pygments_lexer": "ipython3",
   "version": "3.7.4"
  }
 },
 "nbformat": 4,
 "nbformat_minor": 4
}
