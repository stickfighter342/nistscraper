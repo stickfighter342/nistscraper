{
 "cells": [
  {
   "cell_type": "code",
   "execution_count": 10,
   "metadata": {},
   "outputs": [],
   "source": [
    "import numpy as np\n",
    "import matplotlib.pyplot as plt"
   ]
  },
  {
   "cell_type": "code",
   "execution_count": 7,
   "metadata": {},
   "outputs": [
    {
     "name": "stdout",
     "output_type": "stream",
     "text": [
      "Pressure of Nitrogen at 1\n"
     ]
    }
   ],
   "source": [
    "#data for nitrogen\n",
    "Tc = 126.2 #K\n",
    "Pc = 33.5 #atm\n",
    "R = 0.08205 #L*atm/K/mol\n",
    "\n",
    "#ideal gas law for Nitrogen at Vm = 1 L/mol, T = 300K\n",
    "Vm = 1\n",
    "T = np.linspace(100, 300, 201)\n",
    "P = R * T / Vm\n",
    "print(\"Pressure of Nitrogen at {}\".format(Vm) )\n"
   ]
  },
  {
   "cell_type": "code",
   "execution_count": 3,
   "metadata": {},
   "outputs": [
    {
     "name": "stdout",
     "output_type": "stream",
     "text": [
      "Pressure of Nitrogen at Vm  of 1 and T of 300: 24.615\n"
     ]
    }
   ],
   "source": [
    "print(\"Pressure of Nitrogen at Vm of {} and T of {}: {}\".format(Vm, T, P))"
   ]
  },
  {
   "cell_type": "code",
   "execution_count": 6,
   "metadata": {},
   "outputs": [
    {
     "name": "stdout",
     "output_type": "stream",
     "text": [
      "Pressure of Nitrogen at Vm of 1 L/mol and T of 300 K: 24.6 atm\n"
     ]
    }
   ],
   "source": [
    "print(\"Pressure of Nitrogen at Vm of {} L/mol and T of {} K: {} atm\".format(Vm, T, np.round(P, 1)))"
   ]
  },
  {
   "cell_type": "code",
   "execution_count": 9,
   "metadata": {},
   "outputs": [
    {
     "name": "stdout",
     "output_type": "stream",
     "text": [
      "[ 8.205    8.28705  8.3691   8.45115  8.5332   8.61525  8.6973   8.77935\n",
      "  8.8614   8.94345  9.0255   9.10755  9.1896   9.27165  9.3537   9.43575\n",
      "  9.5178   9.59985  9.6819   9.76395  9.846    9.92805 10.0101  10.09215\n",
      " 10.1742  10.25625 10.3383  10.42035 10.5024  10.58445 10.6665  10.74855\n",
      " 10.8306  10.91265 10.9947  11.07675 11.1588  11.24085 11.3229  11.40495\n",
      " 11.487   11.56905 11.6511  11.73315 11.8152  11.89725 11.9793  12.06135\n",
      " 12.1434  12.22545 12.3075  12.38955 12.4716  12.55365 12.6357  12.71775\n",
      " 12.7998  12.88185 12.9639  13.04595 13.128   13.21005 13.2921  13.37415\n",
      " 13.4562  13.53825 13.6203  13.70235 13.7844  13.86645 13.9485  14.03055\n",
      " 14.1126  14.19465 14.2767  14.35875 14.4408  14.52285 14.6049  14.68695\n",
      " 14.769   14.85105 14.9331  15.01515 15.0972  15.17925 15.2613  15.34335\n",
      " 15.4254  15.50745 15.5895  15.67155 15.7536  15.83565 15.9177  15.99975\n",
      " 16.0818  16.16385 16.2459  16.32795 16.41    16.49205 16.5741  16.65615\n",
      " 16.7382  16.82025 16.9023  16.98435 17.0664  17.14845 17.2305  17.31255\n",
      " 17.3946  17.47665 17.5587  17.64075 17.7228  17.80485 17.8869  17.96895\n",
      " 18.051   18.13305 18.2151  18.29715 18.3792  18.46125 18.5433  18.62535\n",
      " 18.7074  18.78945 18.8715  18.95355 19.0356  19.11765 19.1997  19.28175\n",
      " 19.3638  19.44585 19.5279  19.60995 19.692   19.77405 19.8561  19.93815\n",
      " 20.0202  20.10225 20.1843  20.26635 20.3484  20.43045 20.5125  20.59455\n",
      " 20.6766  20.75865 20.8407  20.92275 21.0048  21.08685 21.1689  21.25095\n",
      " 21.333   21.41505 21.4971  21.57915 21.6612  21.74325 21.8253  21.90735\n",
      " 21.9894  22.07145 22.1535  22.23555 22.3176  22.39965 22.4817  22.56375\n",
      " 22.6458  22.72785 22.8099  22.89195 22.974   23.05605 23.1381  23.22015\n",
      " 23.3022  23.38425 23.4663  23.54835 23.6304  23.71245 23.7945  23.87655\n",
      " 23.9586  24.04065 24.1227  24.20475 24.2868  24.36885 24.4509  24.53295\n",
      " 24.615  ]\n"
     ]
    }
   ],
   "source": [
    "print(P)"
   ]
  },
  {
   "cell_type": "code",
   "execution_count": 11,
   "metadata": {},
   "outputs": [
    {
     "data": {
      "text/plain": [
       "[<matplotlib.lines.Line2D at 0x1ef53a446c8>]"
      ]
     },
     "execution_count": 11,
     "metadata": {},
     "output_type": "execute_result"
    },
    {
     "data": {
      "image/png": "[encoded data removed]",
      "text/plain": [
       "<Figure size 432x288 with 1 Axes>"
      ]
     },
     "metadata": {
      "needs_background": "light"
     },
     "output_type": "display_data"
    }
   ],
   "source": [
    "fig,ax = plt.subplots()\n",
    "ax.plot(T, P)\n",
    "ax.set_xlabel(\"T (K)\")\n",
    "ax.set_ylabel(\"P (atm)\")"
   ]
  },
  {
   "cell_type": "code",
   "execution_count": 12,
   "metadata": {},
   "outputs": [],
   "source": [
    "def ideal_gas_law(T, Vm):\n",
    "    \"\"\"Calculates the pressure in atm of a gas given the temperature in K and the molar volume in L/mol using the ideal gas law\n",
    "    \"\"\"\n",
    "    R = 0.08205 #L*atm/K/mol\n",
    "    return R * T / Vm"
   ]
  },
  {
   "cell_type": "code",
   "execution_count": 13,
   "metadata": {},
   "outputs": [
    {
     "data": {
      "text/plain": [
       "24.615"
      ]
     },
     "execution_count": 13,
     "metadata": {},
     "output_type": "execute_result"
    }
   ],
   "source": [
    "ideal_gas_law(300, 1)"
   ]
  },
  {
   "cell_type": "code",
   "execution_count": null,
   "metadata": {},
   "outputs": [],
   "source": [
    "#convert rankine to celsius, fahrenheit, kelvin\n",
    "#atm, kPa, bar, psig\n",
    "#l/mol, m^3/kmol\n"
   ]
  }
 ],
 "metadata": {
  "kernelspec": {
   "display_name": "Python 3",
   "language": "python",
   "name": "python3"
  },
  "language_info": {
   "codemirror_mode": {
    "name": "ipython",
    "version": 3
   },
   "file_extension": ".py",
   "mimetype": "text/x-python",
   "name": "python",
   "nbconvert_exporter": "python",
   "pygments_lexer": "ipython3",
   "version": "3.7.4"
  }
 },
 "nbformat": 4,
 "nbformat_minor": 2
}
